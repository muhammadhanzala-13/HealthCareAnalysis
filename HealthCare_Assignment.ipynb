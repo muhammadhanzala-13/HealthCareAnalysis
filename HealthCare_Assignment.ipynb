{
  "cells": [
    {
      "cell_type": "code",
      "execution_count": 2,
      "id": "4f9b8b35-0c16-4b70-812c-85b6eee77cc0",
      "metadata": {
        "id": "4f9b8b35-0c16-4b70-812c-85b6eee77cc0"
      },
      "outputs": [],
      "source": [
        "# Importing Nessessory Libarires\n",
        "import numpy as np\n",
        "import pandas as pd\n",
        "import seaborn as sns\n",
        "from matplotlib import pyplot as plt\n",
        "from IPython.display import display\n",
        "from sklearn.feature_selection import VarianceThreshold"
      ]
    },
    {
      "cell_type": "code",
      "execution_count": 27,
      "id": "637d64a3-7a3f-4e80-9cd6-01c3921bb7c4",
      "metadata": {
        "colab": {
          "base_uri": "https://localhost:8080/",
          "height": 280
        },
        "id": "637d64a3-7a3f-4e80-9cd6-01c3921bb7c4",
        "outputId": "7beef1b4-1c59-4752-b790-982f13eee2a1"
      },
      "outputs": [
        {
          "output_type": "display_data",
          "data": {
            "text/plain": [
              "<IPython.core.display.HTML object>"
            ],
            "text/html": [
              "\n",
              "     <input type=\"file\" id=\"files-d5ca4877-1cbd-4eff-886d-7d77619546f0\" name=\"files[]\" multiple disabled\n",
              "        style=\"border:none\" />\n",
              "     <output id=\"result-d5ca4877-1cbd-4eff-886d-7d77619546f0\">\n",
              "      Upload widget is only available when the cell has been executed in the\n",
              "      current browser session. Please rerun this cell to enable.\n",
              "      </output>\n",
              "      <script>// Copyright 2017 Google LLC\n",
              "//\n",
              "// Licensed under the Apache License, Version 2.0 (the \"License\");\n",
              "// you may not use this file except in compliance with the License.\n",
              "// You may obtain a copy of the License at\n",
              "//\n",
              "//      http://www.apache.org/licenses/LICENSE-2.0\n",
              "//\n",
              "// Unless required by applicable law or agreed to in writing, software\n",
              "// distributed under the License is distributed on an \"AS IS\" BASIS,\n",
              "// WITHOUT WARRANTIES OR CONDITIONS OF ANY KIND, either express or implied.\n",
              "// See the License for the specific language governing permissions and\n",
              "// limitations under the License.\n",
              "\n",
              "/**\n",
              " * @fileoverview Helpers for google.colab Python module.\n",
              " */\n",
              "(function(scope) {\n",
              "function span(text, styleAttributes = {}) {\n",
              "  const element = document.createElement('span');\n",
              "  element.textContent = text;\n",
              "  for (const key of Object.keys(styleAttributes)) {\n",
              "    element.style[key] = styleAttributes[key];\n",
              "  }\n",
              "  return element;\n",
              "}\n",
              "\n",
              "// Max number of bytes which will be uploaded at a time.\n",
              "const MAX_PAYLOAD_SIZE = 100 * 1024;\n",
              "\n",
              "function _uploadFiles(inputId, outputId) {\n",
              "  const steps = uploadFilesStep(inputId, outputId);\n",
              "  const outputElement = document.getElementById(outputId);\n",
              "  // Cache steps on the outputElement to make it available for the next call\n",
              "  // to uploadFilesContinue from Python.\n",
              "  outputElement.steps = steps;\n",
              "\n",
              "  return _uploadFilesContinue(outputId);\n",
              "}\n",
              "\n",
              "// This is roughly an async generator (not supported in the browser yet),\n",
              "// where there are multiple asynchronous steps and the Python side is going\n",
              "// to poll for completion of each step.\n",
              "// This uses a Promise to block the python side on completion of each step,\n",
              "// then passes the result of the previous step as the input to the next step.\n",
              "function _uploadFilesContinue(outputId) {\n",
              "  const outputElement = document.getElementById(outputId);\n",
              "  const steps = outputElement.steps;\n",
              "\n",
              "  const next = steps.next(outputElement.lastPromiseValue);\n",
              "  return Promise.resolve(next.value.promise).then((value) => {\n",
              "    // Cache the last promise value to make it available to the next\n",
              "    // step of the generator.\n",
              "    outputElement.lastPromiseValue = value;\n",
              "    return next.value.response;\n",
              "  });\n",
              "}\n",
              "\n",
              "/**\n",
              " * Generator function which is called between each async step of the upload\n",
              " * process.\n",
              " * @param {string} inputId Element ID of the input file picker element.\n",
              " * @param {string} outputId Element ID of the output display.\n",
              " * @return {!Iterable<!Object>} Iterable of next steps.\n",
              " */\n",
              "function* uploadFilesStep(inputId, outputId) {\n",
              "  const inputElement = document.getElementById(inputId);\n",
              "  inputElement.disabled = false;\n",
              "\n",
              "  const outputElement = document.getElementById(outputId);\n",
              "  outputElement.innerHTML = '';\n",
              "\n",
              "  const pickedPromise = new Promise((resolve) => {\n",
              "    inputElement.addEventListener('change', (e) => {\n",
              "      resolve(e.target.files);\n",
              "    });\n",
              "  });\n",
              "\n",
              "  const cancel = document.createElement('button');\n",
              "  inputElement.parentElement.appendChild(cancel);\n",
              "  cancel.textContent = 'Cancel upload';\n",
              "  const cancelPromise = new Promise((resolve) => {\n",
              "    cancel.onclick = () => {\n",
              "      resolve(null);\n",
              "    };\n",
              "  });\n",
              "\n",
              "  // Wait for the user to pick the files.\n",
              "  const files = yield {\n",
              "    promise: Promise.race([pickedPromise, cancelPromise]),\n",
              "    response: {\n",
              "      action: 'starting',\n",
              "    }\n",
              "  };\n",
              "\n",
              "  cancel.remove();\n",
              "\n",
              "  // Disable the input element since further picks are not allowed.\n",
              "  inputElement.disabled = true;\n",
              "\n",
              "  if (!files) {\n",
              "    return {\n",
              "      response: {\n",
              "        action: 'complete',\n",
              "      }\n",
              "    };\n",
              "  }\n",
              "\n",
              "  for (const file of files) {\n",
              "    const li = document.createElement('li');\n",
              "    li.append(span(file.name, {fontWeight: 'bold'}));\n",
              "    li.append(span(\n",
              "        `(${file.type || 'n/a'}) - ${file.size} bytes, ` +\n",
              "        `last modified: ${\n",
              "            file.lastModifiedDate ? file.lastModifiedDate.toLocaleDateString() :\n",
              "                                    'n/a'} - `));\n",
              "    const percent = span('0% done');\n",
              "    li.appendChild(percent);\n",
              "\n",
              "    outputElement.appendChild(li);\n",
              "\n",
              "    const fileDataPromise = new Promise((resolve) => {\n",
              "      const reader = new FileReader();\n",
              "      reader.onload = (e) => {\n",
              "        resolve(e.target.result);\n",
              "      };\n",
              "      reader.readAsArrayBuffer(file);\n",
              "    });\n",
              "    // Wait for the data to be ready.\n",
              "    let fileData = yield {\n",
              "      promise: fileDataPromise,\n",
              "      response: {\n",
              "        action: 'continue',\n",
              "      }\n",
              "    };\n",
              "\n",
              "    // Use a chunked sending to avoid message size limits. See b/62115660.\n",
              "    let position = 0;\n",
              "    do {\n",
              "      const length = Math.min(fileData.byteLength - position, MAX_PAYLOAD_SIZE);\n",
              "      const chunk = new Uint8Array(fileData, position, length);\n",
              "      position += length;\n",
              "\n",
              "      const base64 = btoa(String.fromCharCode.apply(null, chunk));\n",
              "      yield {\n",
              "        response: {\n",
              "          action: 'append',\n",
              "          file: file.name,\n",
              "          data: base64,\n",
              "        },\n",
              "      };\n",
              "\n",
              "      let percentDone = fileData.byteLength === 0 ?\n",
              "          100 :\n",
              "          Math.round((position / fileData.byteLength) * 100);\n",
              "      percent.textContent = `${percentDone}% done`;\n",
              "\n",
              "    } while (position < fileData.byteLength);\n",
              "  }\n",
              "\n",
              "  // All done.\n",
              "  yield {\n",
              "    response: {\n",
              "      action: 'complete',\n",
              "    }\n",
              "  };\n",
              "}\n",
              "\n",
              "scope.google = scope.google || {};\n",
              "scope.google.colab = scope.google.colab || {};\n",
              "scope.google.colab._files = {\n",
              "  _uploadFiles,\n",
              "  _uploadFilesContinue,\n",
              "};\n",
              "})(self);\n",
              "</script> "
            ]
          },
          "metadata": {}
        },
        {
          "output_type": "stream",
          "name": "stdout",
          "text": [
            "Saving patient_data.csv to patient_data (1).csv\n"
          ]
        },
        {
          "output_type": "display_data",
          "data": {
            "text/plain": [
              "   PatientID  Gender  Age  CholesterolLevel  BloodPressure Region RiskCategory\n",
              "0          1    Male   37             193.4          129.4   East         High\n",
              "1          2  Female   45             210.7          107.1   West          Low\n",
              "2          3    Male   63             244.3          103.9   West          Low\n",
              "3          4    Male   53             184.5          127.2   West         High\n",
              "4          5    Male   29             175.7          116.6  South         High"
            ],
            "text/html": [
              "\n",
              "  <div id=\"df-bb717702-097b-4eac-8226-d3a352769327\" class=\"colab-df-container\">\n",
              "    <div>\n",
              "<style scoped>\n",
              "    .dataframe tbody tr th:only-of-type {\n",
              "        vertical-align: middle;\n",
              "    }\n",
              "\n",
              "    .dataframe tbody tr th {\n",
              "        vertical-align: top;\n",
              "    }\n",
              "\n",
              "    .dataframe thead th {\n",
              "        text-align: right;\n",
              "    }\n",
              "</style>\n",
              "<table border=\"1\" class=\"dataframe\">\n",
              "  <thead>\n",
              "    <tr style=\"text-align: right;\">\n",
              "      <th></th>\n",
              "      <th>PatientID</th>\n",
              "      <th>Gender</th>\n",
              "      <th>Age</th>\n",
              "      <th>CholesterolLevel</th>\n",
              "      <th>BloodPressure</th>\n",
              "      <th>Region</th>\n",
              "      <th>RiskCategory</th>\n",
              "    </tr>\n",
              "  </thead>\n",
              "  <tbody>\n",
              "    <tr>\n",
              "      <th>0</th>\n",
              "      <td>1</td>\n",
              "      <td>Male</td>\n",
              "      <td>37</td>\n",
              "      <td>193.4</td>\n",
              "      <td>129.4</td>\n",
              "      <td>East</td>\n",
              "      <td>High</td>\n",
              "    </tr>\n",
              "    <tr>\n",
              "      <th>1</th>\n",
              "      <td>2</td>\n",
              "      <td>Female</td>\n",
              "      <td>45</td>\n",
              "      <td>210.7</td>\n",
              "      <td>107.1</td>\n",
              "      <td>West</td>\n",
              "      <td>Low</td>\n",
              "    </tr>\n",
              "    <tr>\n",
              "      <th>2</th>\n",
              "      <td>3</td>\n",
              "      <td>Male</td>\n",
              "      <td>63</td>\n",
              "      <td>244.3</td>\n",
              "      <td>103.9</td>\n",
              "      <td>West</td>\n",
              "      <td>Low</td>\n",
              "    </tr>\n",
              "    <tr>\n",
              "      <th>3</th>\n",
              "      <td>4</td>\n",
              "      <td>Male</td>\n",
              "      <td>53</td>\n",
              "      <td>184.5</td>\n",
              "      <td>127.2</td>\n",
              "      <td>West</td>\n",
              "      <td>High</td>\n",
              "    </tr>\n",
              "    <tr>\n",
              "      <th>4</th>\n",
              "      <td>5</td>\n",
              "      <td>Male</td>\n",
              "      <td>29</td>\n",
              "      <td>175.7</td>\n",
              "      <td>116.6</td>\n",
              "      <td>South</td>\n",
              "      <td>High</td>\n",
              "    </tr>\n",
              "  </tbody>\n",
              "</table>\n",
              "</div>\n",
              "    <div class=\"colab-df-buttons\">\n",
              "\n",
              "  <div class=\"colab-df-container\">\n",
              "    <button class=\"colab-df-convert\" onclick=\"convertToInteractive('df-bb717702-097b-4eac-8226-d3a352769327')\"\n",
              "            title=\"Convert this dataframe to an interactive table.\"\n",
              "            style=\"display:none;\">\n",
              "\n",
              "  <svg xmlns=\"http://www.w3.org/2000/svg\" height=\"24px\" viewBox=\"0 -960 960 960\">\n",
              "    <path d=\"M120-120v-720h720v720H120Zm60-500h600v-160H180v160Zm220 220h160v-160H400v160Zm0 220h160v-160H400v160ZM180-400h160v-160H180v160Zm440 0h160v-160H620v160ZM180-180h160v-160H180v160Zm440 0h160v-160H620v160Z\"/>\n",
              "  </svg>\n",
              "    </button>\n",
              "\n",
              "  <style>\n",
              "    .colab-df-container {\n",
              "      display:flex;\n",
              "      gap: 12px;\n",
              "    }\n",
              "\n",
              "    .colab-df-convert {\n",
              "      background-color: #E8F0FE;\n",
              "      border: none;\n",
              "      border-radius: 50%;\n",
              "      cursor: pointer;\n",
              "      display: none;\n",
              "      fill: #1967D2;\n",
              "      height: 32px;\n",
              "      padding: 0 0 0 0;\n",
              "      width: 32px;\n",
              "    }\n",
              "\n",
              "    .colab-df-convert:hover {\n",
              "      background-color: #E2EBFA;\n",
              "      box-shadow: 0px 1px 2px rgba(60, 64, 67, 0.3), 0px 1px 3px 1px rgba(60, 64, 67, 0.15);\n",
              "      fill: #174EA6;\n",
              "    }\n",
              "\n",
              "    .colab-df-buttons div {\n",
              "      margin-bottom: 4px;\n",
              "    }\n",
              "\n",
              "    [theme=dark] .colab-df-convert {\n",
              "      background-color: #3B4455;\n",
              "      fill: #D2E3FC;\n",
              "    }\n",
              "\n",
              "    [theme=dark] .colab-df-convert:hover {\n",
              "      background-color: #434B5C;\n",
              "      box-shadow: 0px 1px 3px 1px rgba(0, 0, 0, 0.15);\n",
              "      filter: drop-shadow(0px 1px 2px rgba(0, 0, 0, 0.3));\n",
              "      fill: #FFFFFF;\n",
              "    }\n",
              "  </style>\n",
              "\n",
              "    <script>\n",
              "      const buttonEl =\n",
              "        document.querySelector('#df-bb717702-097b-4eac-8226-d3a352769327 button.colab-df-convert');\n",
              "      buttonEl.style.display =\n",
              "        google.colab.kernel.accessAllowed ? 'block' : 'none';\n",
              "\n",
              "      async function convertToInteractive(key) {\n",
              "        const element = document.querySelector('#df-bb717702-097b-4eac-8226-d3a352769327');\n",
              "        const dataTable =\n",
              "          await google.colab.kernel.invokeFunction('convertToInteractive',\n",
              "                                                    [key], {});\n",
              "        if (!dataTable) return;\n",
              "\n",
              "        const docLinkHtml = 'Like what you see? Visit the ' +\n",
              "          '<a target=\"_blank\" href=https://colab.research.google.com/notebooks/data_table.ipynb>data table notebook</a>'\n",
              "          + ' to learn more about interactive tables.';\n",
              "        element.innerHTML = '';\n",
              "        dataTable['output_type'] = 'display_data';\n",
              "        await google.colab.output.renderOutput(dataTable, element);\n",
              "        const docLink = document.createElement('div');\n",
              "        docLink.innerHTML = docLinkHtml;\n",
              "        element.appendChild(docLink);\n",
              "      }\n",
              "    </script>\n",
              "  </div>\n",
              "\n",
              "\n",
              "    <div id=\"df-ac9d736b-592a-4606-8f55-5ecd7644bbf8\">\n",
              "      <button class=\"colab-df-quickchart\" onclick=\"quickchart('df-ac9d736b-592a-4606-8f55-5ecd7644bbf8')\"\n",
              "                title=\"Suggest charts\"\n",
              "                style=\"display:none;\">\n",
              "\n",
              "<svg xmlns=\"http://www.w3.org/2000/svg\" height=\"24px\"viewBox=\"0 0 24 24\"\n",
              "     width=\"24px\">\n",
              "    <g>\n",
              "        <path d=\"M19 3H5c-1.1 0-2 .9-2 2v14c0 1.1.9 2 2 2h14c1.1 0 2-.9 2-2V5c0-1.1-.9-2-2-2zM9 17H7v-7h2v7zm4 0h-2V7h2v10zm4 0h-2v-4h2v4z\"/>\n",
              "    </g>\n",
              "</svg>\n",
              "      </button>\n",
              "\n",
              "<style>\n",
              "  .colab-df-quickchart {\n",
              "      --bg-color: #E8F0FE;\n",
              "      --fill-color: #1967D2;\n",
              "      --hover-bg-color: #E2EBFA;\n",
              "      --hover-fill-color: #174EA6;\n",
              "      --disabled-fill-color: #AAA;\n",
              "      --disabled-bg-color: #DDD;\n",
              "  }\n",
              "\n",
              "  [theme=dark] .colab-df-quickchart {\n",
              "      --bg-color: #3B4455;\n",
              "      --fill-color: #D2E3FC;\n",
              "      --hover-bg-color: #434B5C;\n",
              "      --hover-fill-color: #FFFFFF;\n",
              "      --disabled-bg-color: #3B4455;\n",
              "      --disabled-fill-color: #666;\n",
              "  }\n",
              "\n",
              "  .colab-df-quickchart {\n",
              "    background-color: var(--bg-color);\n",
              "    border: none;\n",
              "    border-radius: 50%;\n",
              "    cursor: pointer;\n",
              "    display: none;\n",
              "    fill: var(--fill-color);\n",
              "    height: 32px;\n",
              "    padding: 0;\n",
              "    width: 32px;\n",
              "  }\n",
              "\n",
              "  .colab-df-quickchart:hover {\n",
              "    background-color: var(--hover-bg-color);\n",
              "    box-shadow: 0 1px 2px rgba(60, 64, 67, 0.3), 0 1px 3px 1px rgba(60, 64, 67, 0.15);\n",
              "    fill: var(--button-hover-fill-color);\n",
              "  }\n",
              "\n",
              "  .colab-df-quickchart-complete:disabled,\n",
              "  .colab-df-quickchart-complete:disabled:hover {\n",
              "    background-color: var(--disabled-bg-color);\n",
              "    fill: var(--disabled-fill-color);\n",
              "    box-shadow: none;\n",
              "  }\n",
              "\n",
              "  .colab-df-spinner {\n",
              "    border: 2px solid var(--fill-color);\n",
              "    border-color: transparent;\n",
              "    border-bottom-color: var(--fill-color);\n",
              "    animation:\n",
              "      spin 1s steps(1) infinite;\n",
              "  }\n",
              "\n",
              "  @keyframes spin {\n",
              "    0% {\n",
              "      border-color: transparent;\n",
              "      border-bottom-color: var(--fill-color);\n",
              "      border-left-color: var(--fill-color);\n",
              "    }\n",
              "    20% {\n",
              "      border-color: transparent;\n",
              "      border-left-color: var(--fill-color);\n",
              "      border-top-color: var(--fill-color);\n",
              "    }\n",
              "    30% {\n",
              "      border-color: transparent;\n",
              "      border-left-color: var(--fill-color);\n",
              "      border-top-color: var(--fill-color);\n",
              "      border-right-color: var(--fill-color);\n",
              "    }\n",
              "    40% {\n",
              "      border-color: transparent;\n",
              "      border-right-color: var(--fill-color);\n",
              "      border-top-color: var(--fill-color);\n",
              "    }\n",
              "    60% {\n",
              "      border-color: transparent;\n",
              "      border-right-color: var(--fill-color);\n",
              "    }\n",
              "    80% {\n",
              "      border-color: transparent;\n",
              "      border-right-color: var(--fill-color);\n",
              "      border-bottom-color: var(--fill-color);\n",
              "    }\n",
              "    90% {\n",
              "      border-color: transparent;\n",
              "      border-bottom-color: var(--fill-color);\n",
              "    }\n",
              "  }\n",
              "</style>\n",
              "\n",
              "      <script>\n",
              "        async function quickchart(key) {\n",
              "          const quickchartButtonEl =\n",
              "            document.querySelector('#' + key + ' button');\n",
              "          quickchartButtonEl.disabled = true;  // To prevent multiple clicks.\n",
              "          quickchartButtonEl.classList.add('colab-df-spinner');\n",
              "          try {\n",
              "            const charts = await google.colab.kernel.invokeFunction(\n",
              "                'suggestCharts', [key], {});\n",
              "          } catch (error) {\n",
              "            console.error('Error during call to suggestCharts:', error);\n",
              "          }\n",
              "          quickchartButtonEl.classList.remove('colab-df-spinner');\n",
              "          quickchartButtonEl.classList.add('colab-df-quickchart-complete');\n",
              "        }\n",
              "        (() => {\n",
              "          let quickchartButtonEl =\n",
              "            document.querySelector('#df-ac9d736b-592a-4606-8f55-5ecd7644bbf8 button');\n",
              "          quickchartButtonEl.style.display =\n",
              "            google.colab.kernel.accessAllowed ? 'block' : 'none';\n",
              "        })();\n",
              "      </script>\n",
              "    </div>\n",
              "\n",
              "    </div>\n",
              "  </div>\n"
            ],
            "application/vnd.google.colaboratory.intrinsic+json": {
              "type": "dataframe",
              "summary": "{\n  \"name\": \"print(f\\\" Inference: The shape of data is {df\",\n  \"rows\": 5,\n  \"fields\": [\n    {\n      \"column\": \"PatientID\",\n      \"properties\": {\n        \"dtype\": \"number\",\n        \"std\": 1,\n        \"min\": 1,\n        \"max\": 5,\n        \"num_unique_values\": 5,\n        \"samples\": [\n          2,\n          5,\n          3\n        ],\n        \"semantic_type\": \"\",\n        \"description\": \"\"\n      }\n    },\n    {\n      \"column\": \"Gender\",\n      \"properties\": {\n        \"dtype\": \"category\",\n        \"num_unique_values\": 2,\n        \"samples\": [\n          \"Female\",\n          \"Male\"\n        ],\n        \"semantic_type\": \"\",\n        \"description\": \"\"\n      }\n    },\n    {\n      \"column\": \"Age\",\n      \"properties\": {\n        \"dtype\": \"number\",\n        \"std\": 13,\n        \"min\": 29,\n        \"max\": 63,\n        \"num_unique_values\": 5,\n        \"samples\": [\n          45,\n          29\n        ],\n        \"semantic_type\": \"\",\n        \"description\": \"\"\n      }\n    },\n    {\n      \"column\": \"CholesterolLevel\",\n      \"properties\": {\n        \"dtype\": \"number\",\n        \"std\": 27.094685825822012,\n        \"min\": 175.7,\n        \"max\": 244.3,\n        \"num_unique_values\": 5,\n        \"samples\": [\n          210.7,\n          175.7\n        ],\n        \"semantic_type\": \"\",\n        \"description\": \"\"\n      }\n    },\n    {\n      \"column\": \"BloodPressure\",\n      \"properties\": {\n        \"dtype\": \"number\",\n        \"std\": 11.48316158555648,\n        \"min\": 103.9,\n        \"max\": 129.4,\n        \"num_unique_values\": 5,\n        \"samples\": [\n          107.1,\n          116.6\n        ],\n        \"semantic_type\": \"\",\n        \"description\": \"\"\n      }\n    },\n    {\n      \"column\": \"Region\",\n      \"properties\": {\n        \"dtype\": \"string\",\n        \"num_unique_values\": 3,\n        \"samples\": [\n          \"East\",\n          \"West\"\n        ],\n        \"semantic_type\": \"\",\n        \"description\": \"\"\n      }\n    },\n    {\n      \"column\": \"RiskCategory\",\n      \"properties\": {\n        \"dtype\": \"category\",\n        \"num_unique_values\": 2,\n        \"samples\": [\n          \"Low\",\n          \"High\"\n        ],\n        \"semantic_type\": \"\",\n        \"description\": \"\"\n      }\n    }\n  ]\n}"
            }
          },
          "metadata": {}
        },
        {
          "output_type": "stream",
          "name": "stdout",
          "text": [
            " Inference: The shape of data is (100, 7)\n"
          ]
        }
      ],
      "source": [
        "# Importing Dataset\n",
        "import google.colab.files as files\n",
        "uploaded = files.upload()\n",
        "df = pd.read_csv('patient_data.csv')\n",
        "\n",
        "display(df.head())\n",
        "print(f\" Inference: The shape of data is {df.shape}\")"
      ]
    },
    {
      "cell_type": "code",
      "execution_count": 28,
      "id": "7c749d79-4229-491d-a91d-19c22d7fc622",
      "metadata": {
        "colab": {
          "base_uri": "https://localhost:8080/"
        },
        "id": "7c749d79-4229-491d-a91d-19c22d7fc622",
        "outputId": "d1faf38d-3c06-4aca-c073-0eb685d376e2"
      },
      "outputs": [
        {
          "output_type": "stream",
          "name": "stdout",
          "text": [
            "<class 'pandas.core.frame.DataFrame'>\n",
            "RangeIndex: 100 entries, 0 to 99\n",
            "Data columns (total 7 columns):\n",
            " #   Column            Non-Null Count  Dtype  \n",
            "---  ------            --------------  -----  \n",
            " 0   PatientID         100 non-null    int64  \n",
            " 1   Gender            100 non-null    object \n",
            " 2   Age               100 non-null    int64  \n",
            " 3   CholesterolLevel  100 non-null    float64\n",
            " 4   BloodPressure     100 non-null    float64\n",
            " 5   Region            100 non-null    object \n",
            " 6   RiskCategory      100 non-null    object \n",
            "dtypes: float64(2), int64(2), object(3)\n",
            "memory usage: 5.6+ KB\n",
            "\u001b[1mInference:\u001b[0m Data seem to be free from Null values.\n"
          ]
        }
      ],
      "source": [
        "df.info()\n",
        "print(f\"\\033[1mInference:\\033[0m Data seem to be free from Null values.\") #use ANSI for bold the output INFERENCE"
      ]
    },
    {
      "cell_type": "markdown",
      "id": "2bca0294-c09f-47ac-b4ce-e1aa6af444e6",
      "metadata": {
        "id": "2bca0294-c09f-47ac-b4ce-e1aa6af444e6"
      },
      "source": [
        "# Question 1:\n",
        "## Outlier Detection and Feature Reduction"
      ]
    },
    {
      "cell_type": "code",
      "execution_count": 26,
      "id": "cb47b793-8240-40dd-a70e-d446ce33d77b",
      "metadata": {
        "colab": {
          "base_uri": "https://localhost:8080/",
          "height": 222
        },
        "id": "cb47b793-8240-40dd-a70e-d446ce33d77b",
        "outputId": "ea7f6cf0-b959-4dc8-d139-a81e804b9739"
      },
      "outputs": [
        {
          "output_type": "stream",
          "name": "stdout",
          "text": [
            "\u001b[1mInference:\u001b[0m Removed constant features Remaining Columns: 7\n"
          ]
        },
        {
          "output_type": "error",
          "ename": "NameError",
          "evalue": "name 'numeric_df' is not defined",
          "traceback": [
            "\u001b[0;31m---------------------------------------------------------------------------\u001b[0m",
            "\u001b[0;31mNameError\u001b[0m                                 Traceback (most recent call last)",
            "\u001b[0;32m/tmp/ipython-input-26-1449802303.py\u001b[0m in \u001b[0;36m<cell line: 0>\u001b[0;34m()\u001b[0m\n\u001b[1;32m      9\u001b[0m \u001b[0;34m\u001b[0m\u001b[0m\n\u001b[1;32m     10\u001b[0m \u001b[0;31m# Identify and print removed constant features\u001b[0m\u001b[0;34m\u001b[0m\u001b[0;34m\u001b[0m\u001b[0m\n\u001b[0;32m---> 11\u001b[0;31m \u001b[0mremoved_features\u001b[0m \u001b[0;34m=\u001b[0m \u001b[0mlist\u001b[0m\u001b[0;34m(\u001b[0m\u001b[0mset\u001b[0m\u001b[0;34m(\u001b[0m\u001b[0mnumeric_df\u001b[0m\u001b[0;34m.\u001b[0m\u001b[0mcolumns\u001b[0m\u001b[0;34m)\u001b[0m \u001b[0;34m-\u001b[0m \u001b[0mset\u001b[0m\u001b[0;34m(\u001b[0m\u001b[0mselected_features\u001b[0m\u001b[0;34m)\u001b[0m\u001b[0;34m)\u001b[0m\u001b[0;34m\u001b[0m\u001b[0;34m\u001b[0m\u001b[0m\n\u001b[0m\u001b[1;32m     12\u001b[0m \u001b[0mprint\u001b[0m\u001b[0;34m(\u001b[0m\u001b[0;34mf\"\\033[1mRemoved Constant Features:\\033[0m {removed_features}\"\u001b[0m\u001b[0;34m)\u001b[0m\u001b[0;34m\u001b[0m\u001b[0;34m\u001b[0m\u001b[0m\n",
            "\u001b[0;31mNameError\u001b[0m: name 'numeric_df' is not defined"
          ]
        }
      ],
      "source": [
        "# Feature Selections by droping constant features\n",
        "selector = VarianceThreshold(threshold=0.0) # for removing constant features\n",
        "constant_filtered = selector.fit_transform(df.select_dtypes(include=['float64','int64']))\n",
        "\n",
        "selected_features = df.select_dtypes(include=['float64','int64']).columns[selector.get_support()]\n",
        "reduced_df = df[selected_features].join(df.select_dtypes(include='object'))\n",
        "\n",
        "print(f\"\\033[1mInference:\\033[0m Removed constant features Remaining Columns: {reduced_df.shape[1]}\")\n",
        "\n",
        "# Identify and print removed constant features\n",
        "removed_features = list(set(numeric_df.columns) - set(selected_features))\n",
        "print(f\"\\033[1mRemoved Constant Features:\\033[0m {removed_features}\")"
      ]
    },
    {
      "cell_type": "code",
      "execution_count": 8,
      "id": "98b4ffac-33ab-4ece-8b61-8f8741dc3c04",
      "metadata": {
        "colab": {
          "base_uri": "https://localhost:8080/"
        },
        "id": "98b4ffac-33ab-4ece-8b61-8f8741dc3c04",
        "outputId": "0e33f62e-0e70-4fbf-c5ff-1eec187be43a"
      },
      "outputs": [
        {
          "output_type": "stream",
          "name": "stdout",
          "text": [
            "\u001b[1mInference:\u001b[0m Removed Outliers from 'CholesterolLevel'. Rows reduced from 100 to 98.\n"
          ]
        }
      ],
      "source": [
        "# outlier Detection & removal on cholesterolLevel\n",
        "Q1 , Q3 = np.percentile(reduced_df['CholesterolLevel'],[25,75]) # numpy method for qunatile\n",
        "\n",
        "# Q1, Q3 = reduced_df['CholesterolLevel'].quantile([0.25,0.75]) # Pandas method for qunatile\n",
        "\n",
        "# IQR  Range\n",
        "IQR = Q3 - Q1\n",
        "lower_bound = Q1 - (1.5*IQR)\n",
        "upper_bound = Q3 + (1.5*IQR)\n",
        "\n",
        "# Fltering Outliers out\n",
        "df_clean = reduced_df[(df['CholesterolLevel'] >= lower_bound) & (df['CholesterolLevel'] <= upper_bound)]\n",
        "\n",
        "print(f\"\\033[1mInference:\\033[0m Removed Outliers from 'CholesterolLevel'. Rows reduced from {reduced_df.shape[0]} to {df_clean.shape[0]}.\")"
      ]
    },
    {
      "cell_type": "code",
      "execution_count": 9,
      "id": "b5b70166-9943-4b13-9364-fbd08584696a",
      "metadata": {
        "colab": {
          "base_uri": "https://localhost:8080/",
          "height": 303
        },
        "id": "b5b70166-9943-4b13-9364-fbd08584696a",
        "outputId": "b8d3de50-820b-4acd-da1b-88c506b1762d"
      },
      "outputs": [
        {
          "output_type": "execute_result",
          "data": {
            "text/plain": [
              "PatientID           0\n",
              "Age                 0\n",
              "CholesterolLevel    0\n",
              "BloodPressure       0\n",
              "Gender              0\n",
              "Region              0\n",
              "RiskCategory        0\n",
              "dtype: int64"
            ],
            "text/html": [
              "<div>\n",
              "<style scoped>\n",
              "    .dataframe tbody tr th:only-of-type {\n",
              "        vertical-align: middle;\n",
              "    }\n",
              "\n",
              "    .dataframe tbody tr th {\n",
              "        vertical-align: top;\n",
              "    }\n",
              "\n",
              "    .dataframe thead th {\n",
              "        text-align: right;\n",
              "    }\n",
              "</style>\n",
              "<table border=\"1\" class=\"dataframe\">\n",
              "  <thead>\n",
              "    <tr style=\"text-align: right;\">\n",
              "      <th></th>\n",
              "      <th>0</th>\n",
              "    </tr>\n",
              "  </thead>\n",
              "  <tbody>\n",
              "    <tr>\n",
              "      <th>PatientID</th>\n",
              "      <td>0</td>\n",
              "    </tr>\n",
              "    <tr>\n",
              "      <th>Age</th>\n",
              "      <td>0</td>\n",
              "    </tr>\n",
              "    <tr>\n",
              "      <th>CholesterolLevel</th>\n",
              "      <td>0</td>\n",
              "    </tr>\n",
              "    <tr>\n",
              "      <th>BloodPressure</th>\n",
              "      <td>0</td>\n",
              "    </tr>\n",
              "    <tr>\n",
              "      <th>Gender</th>\n",
              "      <td>0</td>\n",
              "    </tr>\n",
              "    <tr>\n",
              "      <th>Region</th>\n",
              "      <td>0</td>\n",
              "    </tr>\n",
              "    <tr>\n",
              "      <th>RiskCategory</th>\n",
              "      <td>0</td>\n",
              "    </tr>\n",
              "  </tbody>\n",
              "</table>\n",
              "</div><br><label><b>dtype:</b> int64</label>"
            ]
          },
          "metadata": {},
          "execution_count": 9
        }
      ],
      "source": [
        "# Cheking missing values\n",
        "missing_summary = df_clean.isnull().sum()\n",
        "missing_summary # No missing values present"
      ]
    },
    {
      "cell_type": "markdown",
      "id": "69085d4f-6449-4037-b5a0-bead34c06d5b",
      "metadata": {
        "id": "69085d4f-6449-4037-b5a0-bead34c06d5b"
      },
      "source": [
        "# Question 2:  Data Visualization"
      ]
    },
    {
      "cell_type": "code",
      "execution_count": 12,
      "id": "018c1d8d-b19d-47a7-a97b-664eac4ccbe6",
      "metadata": {
        "colab": {
          "base_uri": "https://localhost:8080/",
          "height": 507
        },
        "id": "018c1d8d-b19d-47a7-a97b-664eac4ccbe6",
        "outputId": "9beee7ac-75e3-442b-b1c7-1d5610c7de62"
      },
      "outputs": [
        {
          "output_type": "display_data",
          "data": {
            "text/plain": [
              "<Figure size 800x500 with 1 Axes>"
            ],
            "image/png": "[encoded data removed]"
          },
          "metadata": {}
        }
      ],
      "source": [
        "# Question 2\n",
        "# boX Plot\n",
        "plt.figure(figsize=(8,5))\n",
        "sns.boxplot(data=df_clean, x = 'RiskCategory', y='BloodPressure', palette='Set2', hue='RiskCategory')\n",
        "\n",
        "plt.title('Blood Pressure by Risk Category')\n",
        "plt.xlabel('Risk Category')\n",
        "plt.ylabel('Blood Pressure (mm Hg)')\n",
        "plt.grid(True, axis='y', linestyle='--', alpha=0.8)\n",
        "plt.tight_layout()\n",
        "plt.show()"
      ]
    },
    {
      "cell_type": "code",
      "execution_count": 16,
      "id": "cf2cfc46-6740-4c43-ba73-795da76c1e62",
      "metadata": {
        "colab": {
          "base_uri": "https://localhost:8080/",
          "height": 507
        },
        "id": "cf2cfc46-6740-4c43-ba73-795da76c1e62",
        "outputId": "b398c55b-6de9-4341-f3b3-e140ed06432d"
      },
      "outputs": [
        {
          "output_type": "display_data",
          "data": {
            "text/plain": [
              "<Figure size 800x500 with 1 Axes>"
            ],
            "image/png": "[encoded data removed]"
          },
          "metadata": {}
        }
      ],
      "source": [
        "# 2 Count Plot RiskCateggory per region\n",
        "\n",
        "plt.figure(figsize=(8,5))\n",
        "sns.countplot(data=df_clean, x='Region', hue='RiskCategory', palette='Set2')\n",
        "\n",
        "plt.title(\"Count of Patients in Each Risk Category by Region\")\n",
        "plt.xlabel('Region')\n",
        "plt.ylabel('Number of Patients')\n",
        "plt.legend(title='Risk Category')\n",
        "plt.xticks(rotation=45)\n",
        "plt.grid(True, axis='y', linestyle='--', alpha=0.7)\n",
        "plt.tight_layout()\n",
        "plt.show()"
      ]
    },
    {
      "cell_type": "markdown",
      "id": "d4b17028-d23f-41be-b4a3-b29ceafab287",
      "metadata": {
        "id": "d4b17028-d23f-41be-b4a3-b29ceafab287"
      },
      "source": [
        "# Question 3 Hypothesis testing\n",
        "    - Test 1: Is the average CholesterolLevel significantly different from 200 mg/dl (sample size = 20)\n",
        "*Null Hypothesis (H0)*: µ = 200    \n",
        "*Alternate Hypothesis (H1)*: µ ≠ 200   \n",
        "Use a *two-tailed t-test*"
      ]
    },
    {
      "cell_type": "code",
      "execution_count": 17,
      "id": "e33df91d-cf40-4746-9495-dd231c61cf00",
      "metadata": {
        "colab": {
          "base_uri": "https://localhost:8080/"
        },
        "id": "e33df91d-cf40-4746-9495-dd231c61cf00",
        "outputId": "055307e1-e2a3-45af-9e0b-8049f46f30de"
      },
      "outputs": [
        {
          "output_type": "stream",
          "name": "stdout",
          "text": [
            "\u001b[1mT-Test Result:\u001b[0m \n",
            " T-Statistic: 1.1450, P-Value: 0.2664\n",
            "\u001b[1mInference:\u001b[0m Failed to reject H0 i.e No significant difference from 200 mg/dL.\n"
          ]
        }
      ],
      "source": [
        "from scipy.stats  import ttest_1samp\n",
        "\n",
        "# Takinf 20 random samples from cholesterolLevel\n",
        "sample = df_clean['CholesterolLevel'].sample(20, random_state=42)\n",
        "\n",
        "# Performing One-Sample t-test\n",
        "t_stat , p_value = ttest_1samp(sample, popmean=200)\n",
        "\n",
        "# Results\n",
        "print(f\"\\033[1mT-Test Result:\\033[0m \\n T-Statistic: {t_stat:.4f}, P-Value: {p_value:.4f}\")\n",
        "\n",
        "# Conlusion\n",
        "\n",
        "if p_value < 0.05:\n",
        "    print(\"\\033[1mInferenceL\\033[0m Reject H0  i.e The average cholesterol level is significanlty different from 200 mg/dL.\")\n",
        "else:\n",
        "    print(\"\\033[1mInference:\\033[0m Failed to reject H0 i.e No significant difference from 200 mg/dL.\")\n"
      ]
    },
    {
      "cell_type": "markdown",
      "id": "43fa0606-1965-4388-ae78-b879f15f5fa5",
      "metadata": {
        "id": "43fa0606-1965-4388-ae78-b879f15f5fa5"
      },
      "source": [
        "## Test 2:\n",
        "    Is there a significant relationship between Region & RiskCategoery?\n",
        "\n",
        "**Null Hypothesis (H0)**: Region & RiskCategory are independent  \n",
        "**Alternate Hypothesis (H1)**: There is a significant Relationship  \n",
        "Using **Chi-square Test of Independence**"
      ]
    },
    {
      "cell_type": "code",
      "execution_count": 18,
      "id": "d7f3f9bd-9de1-417c-bd9d-8e1d23ed69ae",
      "metadata": {
        "colab": {
          "base_uri": "https://localhost:8080/",
          "height": 183
        },
        "id": "d7f3f9bd-9de1-417c-bd9d-8e1d23ed69ae",
        "outputId": "d0f75f6f-617b-4263-fb87-f3a66417d4ea"
      },
      "outputs": [
        {
          "output_type": "stream",
          "name": "stdout",
          "text": [
            "\u001b[1mOberserved Values\u001b[0m:\n"
          ]
        },
        {
          "output_type": "display_data",
          "data": {
            "text/plain": [
              "array([[ 7,  6,  9],\n",
              "       [ 4, 15, 14],\n",
              "       [ 6,  6,  6],\n",
              "       [ 6, 10,  9]])"
            ]
          },
          "metadata": {}
        },
        {
          "output_type": "stream",
          "name": "stdout",
          "text": [
            "\n",
            "\u001b[1mChi-square Test Result:\u001b[0m\n",
            "Chi-Sqaure Statistic: 4.8247, P_Value: 0.5664877563797075, Degrees of Freedom: 6\n",
            "\u001b[1mInference:\u001b[0m Failed to reject H0 i.e There is not significant relationship between Region & Risk Category.\n"
          ]
        }
      ],
      "source": [
        "from scipy.stats import chi2_contingency\n",
        "\n",
        "# Creating a contigency table\n",
        "contingency_table = pd.crosstab(df_clean['Region'], df_clean['RiskCategory'])\n",
        "\n",
        "# Observed Values\n",
        "print(\"\\033[1mOberserved Values\\033[0m:\")\n",
        "display(contingency_table.values)\n",
        "\n",
        "\n",
        "# Performing Chi-sqaure test\n",
        "chi2 , p_val, dof, expected = chi2_contingency(contingency_table)\n",
        "\n",
        "# results\n",
        "print(f\"\\n\\033[1mChi-square Test Result:\\033[0m\\nChi-Sqaure Statistic: {chi2:.4f}, P_Value: {p_val}, Degrees of Freedom: {dof}\")\n",
        "\n",
        "\n",
        "# Conclusion\n",
        "if p_val < 0.05:\n",
        "    print(\"\\033[1mInference:\\033[0m Reject H0 i.e There is a significant relationship between Region & Risk Category.\")\n",
        "else:\n",
        "    print(\"\\033[1mInference:\\033[0m Failed to reject H0 i.e There is not significant relationship between Region & Risk Category.\")"
      ]
    },
    {
      "cell_type": "markdown",
      "id": "b09fb585-30dd-4a0c-aa8c-321746600b72",
      "metadata": {
        "id": "b09fb585-30dd-4a0c-aa8c-321746600b72"
      },
      "source": [
        "# Question 04:\n",
        "\n",
        "Model the progression of a patient's medication in the bloodstream.\n",
        "Equation:\n",
        " dC/dt = k(D - C)\n",
        "Where:\n",
        "- k = 0.1, D = 100, C(0) = 0\n",
        "- Solve this ODE for t = 0 to 50 using both odeint and solve_ivp\n",
        "- Plot the result and explain the difference in output between the two solvers, if any."
      ]
    },
    {
      "cell_type": "code",
      "execution_count": 19,
      "id": "bbadede9-e9c4-4feb-ad45-9a9fb8e7f4cd",
      "metadata": {
        "id": "bbadede9-e9c4-4feb-ad45-9a9fb8e7f4cd"
      },
      "outputs": [],
      "source": [
        "# Defining the ODE system\n",
        "from scipy.integrate import odeint, solve_ivp\n",
        "\n",
        "\n",
        "# Constants\n",
        "k =0.1\n",
        "D = 100\n",
        "\n",
        "# ODE function\n",
        "def dc_dt(C, t):\n",
        "    return k * (D-C)\n",
        "\n",
        "\n",
        "# Solving using odeint\n",
        "\n",
        "# time vector\n",
        "t = np.linspace(0,50,200)\n",
        "\n",
        "# initial condition\n",
        "C0 = 0\n",
        "\n",
        "# Solve ODe\n",
        "c_odeint = odeint(dc_dt, C0, t)"
      ]
    },
    {
      "cell_type": "code",
      "execution_count": 21,
      "id": "342c8f7e-c3a9-4038-8600-c1713c4c9960",
      "metadata": {
        "id": "342c8f7e-c3a9-4038-8600-c1713c4c9960"
      },
      "outputs": [],
      "source": [
        "# Solving using solve_ivp\n",
        "\n",
        "def dc_dt_ivp(t,C):\n",
        "    return k * (D - C)\n",
        "\n",
        "# Solve ODE\n",
        "sol_ivp = solve_ivp(dc_dt_ivp, t_span=[0,50], y0=[0], t_eval=t)\n",
        "# print(sol_ivp)\n"
      ]
    },
    {
      "cell_type": "code",
      "execution_count": 25,
      "id": "c8f60281-2fe6-42f8-9e6b-7d0308ca941e",
      "metadata": {
        "colab": {
          "base_uri": "https://localhost:8080/",
          "height": 507
        },
        "id": "c8f60281-2fe6-42f8-9e6b-7d0308ca941e",
        "outputId": "1e937f27-38c2-49a7-cfc4-eb15ac66c77d"
      },
      "outputs": [
        {
          "output_type": "display_data",
          "data": {
            "text/plain": [
              "<Figure size 800x500 with 1 Axes>"
            ],
            "image/png": "[encoded data removed]"
          },
          "metadata": {}
        }
      ],
      "source": [
        "plt.figure(figsize=(8,5))\n",
        "plt.plot(t, c_odeint, label='odeint', linestyle='--', color='red')\n",
        "plt.plot(sol_ivp.t, sol_ivp.y[0], label='solve_ivp', linestyle='-', color='lightgreen', alpha=0.8)\n",
        "plt.title(\"Medication Concentration in BloodStream Over Time\")\n",
        "plt.xlabel(\"Time (t)\")\n",
        "plt.ylabel(\"Concentration (C)\")\n",
        "plt.legend()\n",
        "plt.grid(True, linestyle='-', alpha=0.6)\n",
        "plt.tight_layout()\n",
        "plt.show()\n"
      ]
    },
    {
      "cell_type": "markdown",
      "id": "c68aff49-61ef-4fd5-a4c1-1a97a7609d1d",
      "metadata": {
        "id": "c68aff49-61ef-4fd5-a4c1-1a97a7609d1d"
      },
      "source": [
        "# As we can see both Methods Produces Almost Identical Results For This ODE."
      ]
    },
    {
      "cell_type": "code",
      "execution_count": null,
      "id": "bf239180-47e8-406f-9b3c-669c366c9aeb",
      "metadata": {
        "id": "bf239180-47e8-406f-9b3c-669c366c9aeb"
      },
      "outputs": [],
      "source": []
    }
  ],
  "metadata": {
    "kernelspec": {
      "display_name": "Python 3",
      "language": "python",
      "name": "python3"
    },
    "language_info": {
      "codemirror_mode": {
        "name": "ipython",
        "version": 3
      },
      "file_extension": ".py",
      "mimetype": "text/x-python",
      "name": "python",
      "nbconvert_exporter": "python",
      "pygments_lexer": "ipython3",
      "version": "3.12.4"
    },
    "colab": {
      "provenance": []
    }
  },
  "nbformat": 4,
  "nbformat_minor": 5
}